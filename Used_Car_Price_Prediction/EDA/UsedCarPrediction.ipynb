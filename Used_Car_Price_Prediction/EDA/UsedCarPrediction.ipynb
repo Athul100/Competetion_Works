{
  "nbformat": 4,
  "nbformat_minor": 0,
  "metadata": {
    "colab": {
      "name": "UsedCarPrediction.ipynb",
      "version": "0.3.2",
      "provenance": [],
      "collapsed_sections": [],
      "include_colab_link": true
    },
    "kernelspec": {
      "name": "python3",
      "display_name": "Python 3"
    }
  },
  "cells": [
    {
      "cell_type": "markdown",
      "metadata": {
        "id": "view-in-github",
        "colab_type": "text"
      },
      "source": [
        "<a href=\"https://colab.research.google.com/github/Athul100/Competetion_Works/blob/master/UsedCarPrediction.ipynb\" target=\"_parent\"><img src=\"https://colab.research.google.com/assets/colab-badge.svg\" alt=\"Open In Colab\"/></a>"
      ]
    },
    {
      "cell_type": "code",
      "metadata": {
        "id": "P34_jpii38Q1",
        "colab_type": "code",
        "colab": {}
      },
      "source": [
        "import pandas as pd\n",
        "import seaborn as sns\n",
        "import matplotlib.pyplot as plt\n",
        "%matplotlib inline"
      ],
      "execution_count": 0,
      "outputs": []
    },
    {
      "cell_type": "code",
      "metadata": {
        "id": "owD-q2eyoeh7",
        "colab_type": "code",
        "colab": {}
      },
      "source": [
        "car_brands = [{\n",
        "\t\"name\": \"AC\"\n",
        "}, {\n",
        "\t\"name\": \"AC PROPULSION\"\n",
        "}, {\n",
        "\t\"name\": \"ACURA\"\n",
        "}, {\n",
        "\t\"name\": \"A.D. TRAMONTANA\"\n",
        "}, {\n",
        "\t\"name\": \"ALFA ROMEO\"\n",
        "}, {\n",
        "\t\"name\": \"ALMAC\"\n",
        "}, {\n",
        "\t\"name\": \"ALTERNATIVE CARS\"\n",
        "}, {\n",
        "\t\"name\": \"AMUZA\"\n",
        "}, {\n",
        "\t\"name\": \"ANTEROS\"\n",
        "}, {\n",
        "\t\"name\": \"ARASH\"\n",
        "}, {\n",
        "\t\"name\": \"ARIEL\"\n",
        "}, {\n",
        "\t\"name\": \"ARRINERA\"\n",
        "}, {\n",
        "\t\"name\": \"ASL\"\n",
        "}, {\n",
        "\t\"name\": \"ASTERIO\"\n",
        "}, {\n",
        "\t\"name\": \"ASTON MARTIN\"\n",
        "}, {\n",
        "\t\"name\": \"AUDI\"\n",
        "},\n",
        "{\n",
        "\t\"name\": \"BAC\"\n",
        "}, {\n",
        "\t\"name\": \"BAJAJ\"\n",
        "}, {\n",
        "\t\"name\": \"BEIJING AUTOMOBILE WORKS\"\n",
        "}, {\n",
        "\t\"name\": \"BENTLEY\"\n",
        "}, {\n",
        "\t\"name\": \"BMW\"\n",
        "}, {\n",
        "\t\"name\": \"BOLLORÉ\"\n",
        "}, {\n",
        "\t\"name\": \"BOLWELL\"\n",
        "}, {\n",
        "\t\"name\": \"BRILLIANCE / HUACHEN\"\n",
        "}, {\n",
        "\t\"name\": \"BRISTOL\"\n",
        "}, {\n",
        "\t\"name\": \"BRITISH LEYLAND\"\n",
        "}, {\n",
        "\t\"name\": \"BRM BUGGY\"\n",
        "}, {\n",
        "\t\"name\": \"BROOKE\"\n",
        "}, {\n",
        "\t\"name\": \"BUDDY\"\n",
        "}, {\n",
        "\t\"name\": \"BUFORI\"\n",
        "}, {\n",
        "\t\"name\": \"BUGATTI\"\n",
        "}, {\n",
        "\t\"name\": \"BUICK\"\n",
        "}, {\n",
        "\t\"name\": \"BYD\"\n",
        "}, {\n",
        "\t\"name\": \"CADILLAC\"\n",
        "}, {\n",
        "\t\"name\": \"CAPARO\"\n",
        "}, {\n",
        "\t\"name\": \"CARBONTECH\"\n",
        "}, {\n",
        "\t\"name\": \"CARICE\"\n",
        "}, {\n",
        "\t\"name\": \"CHANG'AN\"\n",
        "}, {\n",
        "\t\"name\": \"CHANGHE\"\n",
        "}, {\n",
        "\t\"name\": \"CHERY\"\n",
        "}, {\n",
        "\t\"name\": \"CHEVROLET\"\n",
        "}, {\n",
        "\t\"name\": \"CHEVRON\"\n",
        "}, {\n",
        "\t\"name\": \"CITROËN\"\n",
        "}, {\n",
        "\t\"name\": \"CHRYSLER\"\n",
        "}, {\n",
        "\t\"name\": \"COMMUTER CARS\"\n",
        "}, {\n",
        "\t\"name\": \"CONNAUGHT\"\n",
        "}, {\n",
        "\t\"name\": \"COVINI\"\n",
        "}, {\n",
        "\t\"name\": \"DACIA\"\n",
        "}, {\n",
        "\t\"name\": \"DAIHATSU\"\n",
        "}, {\n",
        "\t\"name\": \"DATSUN\"\n",
        "}, {\n",
        "\t\"name\": \"DE LA CHAPELLE\"\n",
        "}, {\n",
        "\t\"name\": \"DMC\"\n",
        "}, {\n",
        "\t\"name\": \"DIARDI\"\n",
        "}, {\n",
        "\t\"name\": \"DODGE\"\n",
        "}, {\n",
        "\t\"name\": \"DONKERVOORT\"\n",
        "}, {\n",
        "\t\"name\": \"DONGFENG\"\n",
        "}, {\n",
        "\t\"name\": \"DONTO\"\n",
        "}, {\n",
        "\t\"name\": \"DS AUTOMOBILES\"\n",
        "}, {\n",
        "\t\"name\": \"DYNASTI ELECTRIC CAR CORP.\"\n",
        "}, {\n",
        "\t\"name\": \"E-VADE\"\n",
        "}, {\n",
        "\t\"name\": \"EFFEDI\"\n",
        "}, {\n",
        "\t\"name\": \"EGY-TECH ENGINEERING\"\n",
        "}, {\n",
        "\t\"name\": \"ELECTRIC RACEABOUT\"\n",
        "}, {\n",
        "\t\"name\": \"ELFIN\"\n",
        "}, {\n",
        "\t\"name\": \"EMGRAND\"\n",
        "}, {\n",
        "\t\"name\": \"ENGLON\"\n",
        "}, {\n",
        "\t\"name\": \"ETERNITI\"\n",
        "}, {\n",
        "\t\"name\": \"ETOX\"\n",
        "}, {\n",
        "\t\"name\": \"EQUUS\"\n",
        "}, {\n",
        "\t\"name\": \"EXAGON\"\n",
        "}, {\n",
        "\t\"name\": \"FARALLI & MAZZANTI\"\n",
        "}, {\n",
        "\t\"name\": \"FAW\"\n",
        "}, {\n",
        "\t\"name\": \"FERRARI\"\n",
        "}, {\n",
        "\t\"name\": \"FIAT\"\n",
        "}, {\n",
        "\t\"name\": \"FISKER\"\n",
        "}, {\n",
        "\t\"name\": \"FODAY\"\n",
        "}, {\n",
        "\t\"name\": \"FORCE\"\n",
        "}, {\n",
        "\t\"name\": \"FORD\"\n",
        "}, {\n",
        "\t\"name\": \"FORD AUSTRALIA\"\n",
        "}, {\n",
        "\t\"name\": \"FORD GERMANY\"\n",
        "}, {\n",
        "\t\"name\": \"FORNASARI\"\n",
        "}, {\n",
        "\t\"name\": \"FRASER\"\n",
        "}, {\n",
        "\t\"name\": \"GAC GROUP\"\n",
        "}, {\n",
        "\t\"name\": \"GALPIN\"\n",
        "}, {\n",
        "\t\"name\": \"GEELY\"\n",
        "}, {\n",
        "\t\"name\": \"GENESIS\"\n",
        "}, {\n",
        "\t\"name\": \"GIBBS\"\n",
        "}, {\n",
        "\t\"name\": \"GILLET\"\n",
        "}, {\n",
        "\t\"name\": \"GINETTA\"\n",
        "}, {\n",
        "\t\"name\": \"GMC\"\n",
        "}, {\n",
        "\t\"name\": \"GONOW\"\n",
        "}, {\n",
        "\t\"name\": \"GREAT WALL / CHANGCHENG\"\n",
        "}, {\n",
        "\t\"name\": \"GREENTECH AUTOMOTIVE\"\n",
        "}, {\n",
        "\t\"name\": \"GRINNALL\"\n",
        "}, {\n",
        "\t\"name\": \"GTA MOTOR\"\n",
        "}, {\n",
        "\t\"name\": \"GUMPERT\"\n",
        "}, {\n",
        "\t\"name\": \"GURGEL\"\n",
        "}, {\n",
        "\t\"name\": \"HENNESSEY\"\n",
        "}, {\n",
        "\t\"name\": \"HINDUSTAN\",\n",
        "  \"synm\" : \"Ambassador\"\n",
        "}, {\n",
        "\t\"name\": \"HOLDEN\"\n",
        "}, {\n",
        "\t\"name\": \"HONDA\"\n",
        "}, {\n",
        "\t\"name\": \"HONGQI\"\n",
        "}, {\n",
        "\t\"name\": \"HRADYESH\"\n",
        "}, {\n",
        "\t\"name\": \"HTT TECHNOLOGIES\"\n",
        "}, {\n",
        "\t\"name\": \"HULME\"\n",
        "}, {\n",
        "\t\"name\": \"HYUNDAI\"\n",
        "}, {\n",
        "\t\"name\": \"ICML\"\n",
        "}, {\n",
        "\t\"name\": \"IFR\"\n",
        "}, {\n",
        "\t\"name\": \"IRAN KHODRO\"\n",
        "}, {\n",
        "\t\"name\": \"IKCO\"\n",
        "}, {\n",
        "\t\"name\": \"IMPERIA\"\n",
        "}, {\n",
        "\t\"name\": \"INFINITI\"\n",
        "}, {\n",
        "\t\"name\": \"IVM\"\n",
        "}, {\n",
        "\t\"name\": \"INVICTA\"\n",
        "}, {\n",
        "\t\"name\": \"ISDERA\"\n",
        "}, {\n",
        "\t\"name\": \"ISUZU\"\n",
        "}, {\n",
        "\t\"name\": \"JAC\"\n",
        "}, {\n",
        "\t\"name\": \"JAGUAR\"\n",
        "}, {\n",
        "\t\"name\": \"JEEP\"\n",
        "}, {\n",
        "\t\"name\": \"JENSEN MOTORS\"\n",
        "}, {\n",
        "\t\"name\": \"JETCAR\"\n",
        "}, {\n",
        "\t\"name\": \"JONWAY\"\n",
        "}, {\n",
        "\t\"name\": \"JOSS\"\n",
        "}, {\n",
        "\t\"name\": \"KAIPAN\"\n",
        "}, {\n",
        "\t\"name\": \"KANTANKA\"\n",
        "}, {\n",
        "\t\"name\": \"KARMA\"\n",
        "}, {\n",
        "\t\"name\": \"KOENIGSEGG\"\n",
        "}, {\n",
        "\t\"name\": \"KORRES\"\n",
        "}, {\n",
        "\t\"name\": \"KIA\"\n",
        "}, {\n",
        "\t\"name\": \"KIAT\"\n",
        "}, {\n",
        "\t\"name\": \"KISH KHODRO\"\n",
        "}, {\n",
        "\t\"name\": \"KTM\"\n",
        "}, {\n",
        "\t\"name\": \"LADA\"\n",
        "}, {\n",
        "\t\"name\": \"LAMBORGHINI\"\n",
        "}, {\n",
        "\t\"name\": \"LANCIA\"\n",
        "}, {\n",
        "\t\"name\": \"LAND ROVER\"\n",
        "}, {\n",
        "\t\"name\": \"LANDWIND\"\n",
        "}, {\n",
        "\t\"name\": \"LARAKI\"\n",
        "}, {\n",
        "\t\"name\": \"LEBLANC\"\n",
        "}, {\n",
        "\t\"name\": \"LEITCH\"\n",
        "}, {\n",
        "\t\"name\": \"LEOPARD\"\n",
        "}, {\n",
        "\t\"name\": \"LEXUS\"\n",
        "}, {\n",
        "\t\"name\": \"LI-ION\"\n",
        "}, {\n",
        "\t\"name\": \"LIFAN\"\n",
        "}, {\n",
        "\t\"name\": \"LIGHTNING\"\n",
        "}, {\n",
        "\t\"name\": \"LINCOLN\"\n",
        "}, {\n",
        "\t\"name\": \"LISTER\"\n",
        "}, {\n",
        "\t\"name\": \"LOCAL MOTORS\"\n",
        "}, {\n",
        "\t\"name\": \"LOBINI\"\n",
        "}, {\n",
        "\t\"name\": \"LOTEC\"\n",
        "}, {\n",
        "\t\"name\": \"LOTUS CARS\"\n",
        "}, {\n",
        "\t\"name\": \"LUCRA CARS\"\n",
        "}, {\n",
        "\t\"name\": \"LUXGEN\"\n",
        "}, {\n",
        "\t\"name\": \"MAHINDRA\"\n",
        "}, {\n",
        "\t\"name\": \"MARUSSIA\"\n",
        "}, {\n",
        "\t\"name\": \"MARUTI\"\n",
        "}, {\n",
        "\t\"name\": \"MASERATI\"\n",
        "}, {\n",
        "\t\"name\": \"MASTRETTA\"\n",
        "}, {\n",
        "\t\"name\": \"MAZDA\"\n",
        "}, {\n",
        "\t\"name\": \"MCLAREN\"\n",
        "}, {\n",
        "\t\"name\": \"MERCEDES-BENZ\"\n",
        "}, {\n",
        "\t\"name\": \"MG\"\n",
        "}, {\n",
        "\t\"name\": \"MICRO\"\n",
        "}, {\n",
        "\t\"name\": \"MINI\"\n",
        "}, {\n",
        "\t\"name\": \"MITSUBISHI\"\n",
        "}, {\n",
        "\t\"name\": \"MITSUOKA\"\n",
        "}, {\n",
        "\t\"name\": \"MORGAN\"\n",
        "}, {\n",
        "\t\"name\": \"MULLEN\"\n",
        "}, {\n",
        "\t\"name\": \"MYCAR\"\n",
        "}, {\n",
        "\t\"name\": \"MYVI-PERODUA\"\n",
        "}, {\n",
        "\t\"name\": \"NISSAN\"\n",
        "}, {\n",
        "\t\"name\": \"NOBLE\"\n",
        "}, {\n",
        "\t\"name\": \"NOTA\"\n",
        "}, {\n",
        "\t\"name\": \"OLDSMOBILE\"\n",
        "}, {\n",
        "\t\"name\": \"OPEL\"\n",
        "}, {\n",
        "\t\"name\": \"OPTIMAL ENERGY\"\n",
        "}, {\n",
        "\t\"name\": \"ORCA\"\n",
        "}, {\n",
        "\t\"name\": \"OLTCIT\"\n",
        "}, {\n",
        "\t\"name\": \"PAGANI\"\n",
        "}, {\n",
        "\t\"name\": \"PANHARD\"\n",
        "}, {\n",
        "\t\"name\": \"PANOZ\"\n",
        "}, {\n",
        "\t\"name\": \"PERANA\"\n",
        "}, {\n",
        "\t\"name\": \"PERODUA\"\n",
        "}, {\n",
        "\t\"name\": \"PEUGEOT\"\n",
        "}, {\n",
        "\t\"name\": \"P.G.O.\"\n",
        "}, {\n",
        "\t\"name\": \"POLARSUN\"\n",
        "}, {\n",
        "\t\"name\": \"PLYMOUTH\"\n",
        "}, {\n",
        "\t\"name\": \"PORSCHE\"\n",
        "}, {\n",
        "\t\"name\": \"PROTO\"\n",
        "}, {\n",
        "\t\"name\": \"OULLIM\"\n",
        "}, {\n",
        "\t\"name\": \"PROTON\"\n",
        "}, {\n",
        "\t\"name\": \"PURITALIA\"\n",
        "}, {\n",
        "\t\"name\": \"QOROS\"\n",
        "}, {\n",
        "\t\"name\": \"QVALE\"\n",
        "}, {\n",
        "\t\"name\": \"RADICAL\"\n",
        "}, {\n",
        "\t\"name\": \"RELIANT\"\n",
        "}, {\n",
        "\t\"name\": \"RENAULT\"\n",
        "}, {\n",
        "\t\"name\": \"REVA\"\n",
        "}, {\n",
        "\t\"name\": \"RIMAC\"\n",
        "}, {\n",
        "\t\"name\": \"RINSPEED\"\n",
        "}, {\n",
        "\t\"name\": \"RODING\"\n",
        "}, {\n",
        "\t\"name\": \"ROEWE\"\n",
        "}, {\n",
        "\t\"name\": \"ROLLS-ROYCE\"\n",
        "}, {\n",
        "\t\"name\": \"ROSSIN-BERTIN\"\n",
        "}, {\n",
        "\t\"name\": \"ROSSION\"\n",
        "}, {\n",
        "\t\"name\": \"ROVER\"\n",
        "}, {\n",
        "\t\"name\": \"SAAB\"\n",
        "}, {\n",
        "\t\"name\": \"SALEEN\"\n",
        "}, {\n",
        "\t\"name\": \"SAIC-GM-WULING\"\n",
        "}, {\n",
        "\t\"name\": \"SAIPA\"\n",
        "}, {\n",
        "\t\"name\": \"SAKER\"\n",
        "}, {\n",
        "\t\"name\": \"SAMSUNG\"\n",
        "}, {\n",
        "\t\"name\": \"SAN\"\n",
        "}, {\n",
        "\t\"name\": \"SBARRO\"\n",
        "}, {\n",
        "\t\"name\": \"SCION\"\n",
        "}, {\n",
        "\t\"name\": \"SEAT\"\n",
        "}, {\n",
        "\t\"name\": \"SHANGHAI MAPLE\"\n",
        "}, {\n",
        "\t\"name\": \"SIN\"\n",
        "}, {\n",
        "\t\"name\": \"Skoda\"\n",
        "}, {\n",
        "\t\"name\": \"SMART\"\n",
        "}, {\n",
        "\t\"name\": \"SPADA VETTURE SPORT\"\n",
        "}, {\n",
        "\t\"name\": \"SPYKER\"\n",
        "}, {\n",
        "\t\"name\": \"SSANGYONG\"\n",
        "}, {\n",
        "\t\"name\": \"SSC NORTH AMERICA\"\n",
        "}, {\n",
        "\t\"name\": \"STREET & RACING TECHNOLOGY\"\n",
        "}, {\n",
        "\t\"name\": \"SUBARU\"\n",
        "}, {\n",
        "\t\"name\": \"SUZUKI\"\n",
        "}, {\n",
        "\t\"name\": \"TANOM\"\n",
        "}, {\n",
        "\t\"name\": \"TATA\"\n",
        "}, {\n",
        "\t\"name\": \"TAURO\"\n",
        "}, {\n",
        "\t\"name\": \"TAWON CAR\"\n",
        "}, {\n",
        "\t\"name\": \"TD CARS\"\n",
        "}, {\n",
        "\t\"name\": \"TESLA\"\n",
        "}, {\n",
        "\t\"name\": \"THAI RUNG\"\n",
        "}, {\n",
        "\t\"name\": \"TOYOTA\"\n",
        "}, {\n",
        "\t\"name\": \"TREKKA\"\n",
        "}, {\n",
        "\t\"name\": \"TRIDENT\"\n",
        "}, {\n",
        "\t\"name\": \"TRIUMPH\"\n",
        "}, {\n",
        "\t\"name\": \"TROLLER\"\n",
        "}, {\n",
        "\t\"name\": \"TRUMPCHI\"\n",
        "}, {\n",
        "\t\"name\": \"TUSHEK\"\n",
        "}, {\n",
        "\t\"name\": \"TVR\"\n",
        "}, {\n",
        "\t\"name\": \"TVS\"\n",
        "}, {\n",
        "\t\"name\": \"ULTIMA\"\n",
        "}, {\n",
        "\t\"name\": \"UMM\"\n",
        "}, {\n",
        "\t\"name\": \"UEV\"\n",
        "}, {\n",
        "\t\"name\": \"URI\"\n",
        "}, {\n",
        "\t\"name\": \"UAZ\"\n",
        "}, {\n",
        "\t\"name\": \"VAUXHALL MOTORS\"\n",
        "}, {\n",
        "\t\"name\": \"VECTOR\"\n",
        "}, {\n",
        "\t\"name\": \"VENCER\"\n",
        "}, {\n",
        "\t\"name\": \"VENIRAUTO\"\n",
        "}, {\n",
        "\t\"name\": \"VENTURI\"\n",
        "}, {\n",
        "\t\"name\": \"VEPR\"\n",
        "}, {\n",
        "\t\"name\": \"VOLKSWAGEN\"\n",
        "}, {\n",
        "\t\"name\": \"VOLVO\"\n",
        "}, {\n",
        "\t\"name\": \"VINFAST\"\n",
        "}, {\n",
        "\t\"name\": \"W MOTORS\"\n",
        "}, {\n",
        "\t\"name\": \"WALLYSCAR\"\n",
        "}, {\n",
        "\t\"name\": \"WESTFIELD\"\n",
        "}, {\n",
        "\t\"name\": \"WHEEGO\"\n",
        "}, {\n",
        "\t\"name\": \"WIESMANN\"\n",
        "}, {\n",
        "\t\"name\": \"XENIA\"\n",
        "}, {\n",
        "\t\"name\": \"YES!\"\n",
        "}, {\n",
        "\t\"name\": \"YOUABIAN PUMA\"\n",
        "}, {\n",
        "\t\"name\": \"ZASTAVA AUTOMOBILES\"\n",
        "}, {\n",
        "\t\"name\": \"ZENDER CARS\"\n",
        "}, {\n",
        "\t\"name\": \"ZENOS CARS\"\n",
        "}, {\n",
        "\t\"name\": \"ZENVO\"\n",
        "}, {\n",
        "\t\"name\": \"ZIL\"\n",
        "}, {\n",
        "\t\"name\": \"ZX AUTO\"\n",
        "}]"
      ],
      "execution_count": 0,
      "outputs": []
    },
    {
      "cell_type": "code",
      "metadata": {
        "id": "FZvG6WNw5Xxt",
        "colab_type": "code",
        "colab": {}
      },
      "source": [
        "train = pd.read_excel('Data_Train.xlsx')\n",
        "test = pd.read_excel('Data_Test.xlsx')"
      ],
      "execution_count": 0,
      "outputs": []
    },
    {
      "cell_type": "code",
      "metadata": {
        "id": "0IE9jt_P5iQl",
        "colab_type": "code",
        "outputId": "1d2dd1b0-b9c9-40d8-eaf1-44a4a2765a91",
        "colab": {
          "base_uri": "https://localhost:8080/",
          "height": 516
        }
      },
      "source": [
        "test.head()"
      ],
      "execution_count": 124,
      "outputs": [
        {
          "output_type": "execute_result",
          "data": {
            "text/html": [
              "<div>\n",
              "<style scoped>\n",
              "    .dataframe tbody tr th:only-of-type {\n",
              "        vertical-align: middle;\n",
              "    }\n",
              "\n",
              "    .dataframe tbody tr th {\n",
              "        vertical-align: top;\n",
              "    }\n",
              "\n",
              "    .dataframe thead th {\n",
              "        text-align: right;\n",
              "    }\n",
              "</style>\n",
              "<table border=\"1\" class=\"dataframe\">\n",
              "  <thead>\n",
              "    <tr style=\"text-align: right;\">\n",
              "      <th></th>\n",
              "      <th>Name</th>\n",
              "      <th>Location</th>\n",
              "      <th>Year</th>\n",
              "      <th>Kilometers_Driven</th>\n",
              "      <th>Fuel_Type</th>\n",
              "      <th>Transmission</th>\n",
              "      <th>Owner_Type</th>\n",
              "      <th>Mileage</th>\n",
              "      <th>Engine</th>\n",
              "      <th>Power</th>\n",
              "      <th>Seats</th>\n",
              "      <th>New_Price</th>\n",
              "    </tr>\n",
              "  </thead>\n",
              "  <tbody>\n",
              "    <tr>\n",
              "      <th>0</th>\n",
              "      <td>Maruti Alto K10 LXI CNG</td>\n",
              "      <td>Delhi</td>\n",
              "      <td>2014</td>\n",
              "      <td>40929</td>\n",
              "      <td>CNG</td>\n",
              "      <td>Manual</td>\n",
              "      <td>First</td>\n",
              "      <td>32.26 km/kg</td>\n",
              "      <td>998 CC</td>\n",
              "      <td>58.2 bhp</td>\n",
              "      <td>4.0</td>\n",
              "      <td>NaN</td>\n",
              "    </tr>\n",
              "    <tr>\n",
              "      <th>1</th>\n",
              "      <td>Maruti Alto 800 2016-2019 LXI</td>\n",
              "      <td>Coimbatore</td>\n",
              "      <td>2013</td>\n",
              "      <td>54493</td>\n",
              "      <td>Petrol</td>\n",
              "      <td>Manual</td>\n",
              "      <td>Second</td>\n",
              "      <td>24.7 kmpl</td>\n",
              "      <td>796 CC</td>\n",
              "      <td>47.3 bhp</td>\n",
              "      <td>5.0</td>\n",
              "      <td>NaN</td>\n",
              "    </tr>\n",
              "    <tr>\n",
              "      <th>2</th>\n",
              "      <td>Toyota Innova Crysta Touring Sport 2.4 MT</td>\n",
              "      <td>Mumbai</td>\n",
              "      <td>2017</td>\n",
              "      <td>34000</td>\n",
              "      <td>Diesel</td>\n",
              "      <td>Manual</td>\n",
              "      <td>First</td>\n",
              "      <td>13.68 kmpl</td>\n",
              "      <td>2393 CC</td>\n",
              "      <td>147.8 bhp</td>\n",
              "      <td>7.0</td>\n",
              "      <td>25.27 Lakh</td>\n",
              "    </tr>\n",
              "    <tr>\n",
              "      <th>3</th>\n",
              "      <td>Toyota Etios Liva GD</td>\n",
              "      <td>Hyderabad</td>\n",
              "      <td>2012</td>\n",
              "      <td>139000</td>\n",
              "      <td>Diesel</td>\n",
              "      <td>Manual</td>\n",
              "      <td>First</td>\n",
              "      <td>23.59 kmpl</td>\n",
              "      <td>1364 CC</td>\n",
              "      <td>null bhp</td>\n",
              "      <td>5.0</td>\n",
              "      <td>NaN</td>\n",
              "    </tr>\n",
              "    <tr>\n",
              "      <th>4</th>\n",
              "      <td>Hyundai i20 Magna</td>\n",
              "      <td>Mumbai</td>\n",
              "      <td>2014</td>\n",
              "      <td>29000</td>\n",
              "      <td>Petrol</td>\n",
              "      <td>Manual</td>\n",
              "      <td>First</td>\n",
              "      <td>18.5 kmpl</td>\n",
              "      <td>1197 CC</td>\n",
              "      <td>82.85 bhp</td>\n",
              "      <td>5.0</td>\n",
              "      <td>NaN</td>\n",
              "    </tr>\n",
              "  </tbody>\n",
              "</table>\n",
              "</div>"
            ],
            "text/plain": [
              "                                        Name    Location  ...  Seats   New_Price\n",
              "0                    Maruti Alto K10 LXI CNG       Delhi  ...    4.0         NaN\n",
              "1              Maruti Alto 800 2016-2019 LXI  Coimbatore  ...    5.0         NaN\n",
              "2  Toyota Innova Crysta Touring Sport 2.4 MT      Mumbai  ...    7.0  25.27 Lakh\n",
              "3                       Toyota Etios Liva GD   Hyderabad  ...    5.0         NaN\n",
              "4                          Hyundai i20 Magna      Mumbai  ...    5.0         NaN\n",
              "\n",
              "[5 rows x 12 columns]"
            ]
          },
          "metadata": {
            "tags": []
          },
          "execution_count": 124
        }
      ]
    },
    {
      "cell_type": "code",
      "metadata": {
        "id": "VQjHNIytDq_H",
        "colab_type": "code",
        "outputId": "0c1d8a22-3617-4e49-b104-35d495df6120",
        "colab": {
          "base_uri": "https://localhost:8080/",
          "height": 51
        }
      },
      "source": [
        "print(train.shape)\n",
        "print(test.shape)"
      ],
      "execution_count": 125,
      "outputs": [
        {
          "output_type": "stream",
          "text": [
            "(6019, 13)\n",
            "(1234, 12)\n"
          ],
          "name": "stdout"
        }
      ]
    },
    {
      "cell_type": "code",
      "metadata": {
        "id": "lONuAvzKDwn8",
        "colab_type": "code",
        "outputId": "70be8e4a-adf1-4dc0-87d9-19d50b78b53a",
        "colab": {
          "base_uri": "https://localhost:8080/",
          "height": 204
        }
      },
      "source": [
        "df = pd.DataFrame(train.isna().sum()[train.isna().sum() !=0].sort_values(ascending=False))\n",
        "df.columns = ['#Missing']\n",
        "df['Percent_Missing'] = train.isna().sum()/len(train)\n",
        "df"
      ],
      "execution_count": 126,
      "outputs": [
        {
          "output_type": "execute_result",
          "data": {
            "text/html": [
              "<div>\n",
              "<style scoped>\n",
              "    .dataframe tbody tr th:only-of-type {\n",
              "        vertical-align: middle;\n",
              "    }\n",
              "\n",
              "    .dataframe tbody tr th {\n",
              "        vertical-align: top;\n",
              "    }\n",
              "\n",
              "    .dataframe thead th {\n",
              "        text-align: right;\n",
              "    }\n",
              "</style>\n",
              "<table border=\"1\" class=\"dataframe\">\n",
              "  <thead>\n",
              "    <tr style=\"text-align: right;\">\n",
              "      <th></th>\n",
              "      <th>#Missing</th>\n",
              "      <th>Percent_Missing</th>\n",
              "    </tr>\n",
              "  </thead>\n",
              "  <tbody>\n",
              "    <tr>\n",
              "      <th>New_Price</th>\n",
              "      <td>5195</td>\n",
              "      <td>0.863100</td>\n",
              "    </tr>\n",
              "    <tr>\n",
              "      <th>Seats</th>\n",
              "      <td>42</td>\n",
              "      <td>0.006978</td>\n",
              "    </tr>\n",
              "    <tr>\n",
              "      <th>Power</th>\n",
              "      <td>36</td>\n",
              "      <td>0.005981</td>\n",
              "    </tr>\n",
              "    <tr>\n",
              "      <th>Engine</th>\n",
              "      <td>36</td>\n",
              "      <td>0.005981</td>\n",
              "    </tr>\n",
              "    <tr>\n",
              "      <th>Mileage</th>\n",
              "      <td>2</td>\n",
              "      <td>0.000332</td>\n",
              "    </tr>\n",
              "  </tbody>\n",
              "</table>\n",
              "</div>"
            ],
            "text/plain": [
              "           #Missing  Percent_Missing\n",
              "New_Price      5195         0.863100\n",
              "Seats            42         0.006978\n",
              "Power            36         0.005981\n",
              "Engine           36         0.005981\n",
              "Mileage           2         0.000332"
            ]
          },
          "metadata": {
            "tags": []
          },
          "execution_count": 126
        }
      ]
    },
    {
      "cell_type": "code",
      "metadata": {
        "id": "EQYklyqoD5V8",
        "colab_type": "code",
        "colab": {}
      },
      "source": [
        "def drop_cols(drop_columns):\n",
        "  train.drop(drop_columns,axis=1,inplace=True)\n",
        "  test.drop(drop_columns, axis=1,inplace=True)\n",
        "  \n",
        "drop_cols(['New_Price'])"
      ],
      "execution_count": 0,
      "outputs": []
    },
    {
      "cell_type": "code",
      "metadata": {
        "id": "Ehpgl1tNEjk0",
        "colab_type": "code",
        "outputId": "6a6de9be-3be7-4586-a35b-5e6c49e53411",
        "colab": {
          "base_uri": "https://localhost:8080/",
          "height": 431
        }
      },
      "source": [
        "train.head()"
      ],
      "execution_count": 132,
      "outputs": [
        {
          "output_type": "execute_result",
          "data": {
            "text/html": [
              "<div>\n",
              "<style scoped>\n",
              "    .dataframe tbody tr th:only-of-type {\n",
              "        vertical-align: middle;\n",
              "    }\n",
              "\n",
              "    .dataframe tbody tr th {\n",
              "        vertical-align: top;\n",
              "    }\n",
              "\n",
              "    .dataframe thead th {\n",
              "        text-align: right;\n",
              "    }\n",
              "</style>\n",
              "<table border=\"1\" class=\"dataframe\">\n",
              "  <thead>\n",
              "    <tr style=\"text-align: right;\">\n",
              "      <th></th>\n",
              "      <th>Name</th>\n",
              "      <th>Location</th>\n",
              "      <th>Year</th>\n",
              "      <th>Kilometers_Driven</th>\n",
              "      <th>Fuel_Type</th>\n",
              "      <th>Transmission</th>\n",
              "      <th>Owner_Type</th>\n",
              "      <th>Mileage</th>\n",
              "      <th>Engine</th>\n",
              "      <th>Power</th>\n",
              "      <th>Seats</th>\n",
              "      <th>Price</th>\n",
              "    </tr>\n",
              "  </thead>\n",
              "  <tbody>\n",
              "    <tr>\n",
              "      <th>0</th>\n",
              "      <td>Maruti Wagon R LXI CNG</td>\n",
              "      <td>Mumbai</td>\n",
              "      <td>2010</td>\n",
              "      <td>72000</td>\n",
              "      <td>CNG</td>\n",
              "      <td>Manual</td>\n",
              "      <td>First</td>\n",
              "      <td>26.6 km/kg</td>\n",
              "      <td>998 CC</td>\n",
              "      <td>58.16 bhp</td>\n",
              "      <td>5.0</td>\n",
              "      <td>1.75</td>\n",
              "    </tr>\n",
              "    <tr>\n",
              "      <th>1</th>\n",
              "      <td>Hyundai Creta 1.6 CRDi SX Option</td>\n",
              "      <td>Pune</td>\n",
              "      <td>2015</td>\n",
              "      <td>41000</td>\n",
              "      <td>Diesel</td>\n",
              "      <td>Manual</td>\n",
              "      <td>First</td>\n",
              "      <td>19.67 kmpl</td>\n",
              "      <td>1582 CC</td>\n",
              "      <td>126.2 bhp</td>\n",
              "      <td>5.0</td>\n",
              "      <td>12.50</td>\n",
              "    </tr>\n",
              "    <tr>\n",
              "      <th>2</th>\n",
              "      <td>Honda Jazz V</td>\n",
              "      <td>Chennai</td>\n",
              "      <td>2011</td>\n",
              "      <td>46000</td>\n",
              "      <td>Petrol</td>\n",
              "      <td>Manual</td>\n",
              "      <td>First</td>\n",
              "      <td>18.2 kmpl</td>\n",
              "      <td>1199 CC</td>\n",
              "      <td>88.7 bhp</td>\n",
              "      <td>5.0</td>\n",
              "      <td>4.50</td>\n",
              "    </tr>\n",
              "    <tr>\n",
              "      <th>3</th>\n",
              "      <td>Maruti Ertiga VDI</td>\n",
              "      <td>Chennai</td>\n",
              "      <td>2012</td>\n",
              "      <td>87000</td>\n",
              "      <td>Diesel</td>\n",
              "      <td>Manual</td>\n",
              "      <td>First</td>\n",
              "      <td>20.77 kmpl</td>\n",
              "      <td>1248 CC</td>\n",
              "      <td>88.76 bhp</td>\n",
              "      <td>7.0</td>\n",
              "      <td>6.00</td>\n",
              "    </tr>\n",
              "    <tr>\n",
              "      <th>4</th>\n",
              "      <td>Audi A4 New 2.0 TDI Multitronic</td>\n",
              "      <td>Coimbatore</td>\n",
              "      <td>2013</td>\n",
              "      <td>40670</td>\n",
              "      <td>Diesel</td>\n",
              "      <td>Automatic</td>\n",
              "      <td>Second</td>\n",
              "      <td>15.2 kmpl</td>\n",
              "      <td>1968 CC</td>\n",
              "      <td>140.8 bhp</td>\n",
              "      <td>5.0</td>\n",
              "      <td>17.74</td>\n",
              "    </tr>\n",
              "  </tbody>\n",
              "</table>\n",
              "</div>"
            ],
            "text/plain": [
              "                               Name    Location  Year  ...      Power Seats  Price\n",
              "0            Maruti Wagon R LXI CNG      Mumbai  2010  ...  58.16 bhp   5.0   1.75\n",
              "1  Hyundai Creta 1.6 CRDi SX Option        Pune  2015  ...  126.2 bhp   5.0  12.50\n",
              "2                      Honda Jazz V     Chennai  2011  ...   88.7 bhp   5.0   4.50\n",
              "3                 Maruti Ertiga VDI     Chennai  2012  ...  88.76 bhp   7.0   6.00\n",
              "4   Audi A4 New 2.0 TDI Multitronic  Coimbatore  2013  ...  140.8 bhp   5.0  17.74\n",
              "\n",
              "[5 rows x 12 columns]"
            ]
          },
          "metadata": {
            "tags": []
          },
          "execution_count": 132
        }
      ]
    },
    {
      "cell_type": "code",
      "metadata": {
        "id": "mXoNxK4XE0xf",
        "colab_type": "code",
        "outputId": "31eef51d-165b-44f1-d0bd-3273213f5dbe",
        "colab": {
          "base_uri": "https://localhost:8080/",
          "height": 442
        }
      },
      "source": [
        "list_col = []\n",
        "for col in train.columns:\n",
        "    if train[col].dtype == \"object\":\n",
        "        print (\"\\nCardinality of \"+col+\" in Training Set:\",train[col].nunique())\n",
        "        print (\"Cardinality of \"+col+\" in Testing Set:\",test[col].nunique())\n",
        "        if train[col].nunique() is not test[col].nunique():\n",
        "            list_col.append(col)\n",
        "print(list_col)"
      ],
      "execution_count": 133,
      "outputs": [
        {
          "output_type": "stream",
          "text": [
            "\n",
            "Cardinality of Name in Training Set: 1876\n",
            "Cardinality of Name in Testing Set: 768\n",
            "\n",
            "Cardinality of Location in Training Set: 11\n",
            "Cardinality of Location in Testing Set: 11\n",
            "\n",
            "Cardinality of Fuel_Type in Training Set: 5\n",
            "Cardinality of Fuel_Type in Testing Set: 4\n",
            "\n",
            "Cardinality of Transmission in Training Set: 2\n",
            "Cardinality of Transmission in Testing Set: 2\n",
            "\n",
            "Cardinality of Owner_Type in Training Set: 4\n",
            "Cardinality of Owner_Type in Testing Set: 4\n",
            "\n",
            "Cardinality of Mileage in Training Set: 442\n",
            "Cardinality of Mileage in Testing Set: 301\n",
            "\n",
            "Cardinality of Engine in Training Set: 146\n",
            "Cardinality of Engine in Testing Set: 104\n",
            "\n",
            "Cardinality of Power in Training Set: 372\n",
            "Cardinality of Power in Testing Set: 249\n",
            "['Name', 'Fuel_Type', 'Mileage', 'Engine', 'Power']\n"
          ],
          "name": "stdout"
        }
      ]
    },
    {
      "cell_type": "code",
      "metadata": {
        "id": "G8bdnwtpE9Ky",
        "colab_type": "code",
        "outputId": "2c62308d-7d70-4bd9-d784-0ca2b7a85a05",
        "colab": {
          "base_uri": "https://localhost:8080/",
          "height": 170
        }
      },
      "source": [
        "train['Price'].describe()"
      ],
      "execution_count": 134,
      "outputs": [
        {
          "output_type": "execute_result",
          "data": {
            "text/plain": [
              "count    6019.000000\n",
              "mean        9.479468\n",
              "std        11.187917\n",
              "min         0.440000\n",
              "25%         3.500000\n",
              "50%         5.640000\n",
              "75%         9.950000\n",
              "max       160.000000\n",
              "Name: Price, dtype: float64"
            ]
          },
          "metadata": {
            "tags": []
          },
          "execution_count": 134
        }
      ]
    },
    {
      "cell_type": "code",
      "metadata": {
        "id": "T6GaisMcGCCo",
        "colab_type": "code",
        "outputId": "b139247b-089d-452d-ef51-1b07fbb2973f",
        "colab": {
          "base_uri": "https://localhost:8080/",
          "height": 300
        }
      },
      "source": [
        "sns.distplot(train['Price'])"
      ],
      "execution_count": 135,
      "outputs": [
        {
          "output_type": "execute_result",
          "data": {
            "text/plain": [
              "<matplotlib.axes._subplots.AxesSubplot at 0x7f67d321d208>"
            ]
          },
          "metadata": {
            "tags": []
          },
          "execution_count": 135
        },
        {
          "output_type": "display_data",
          "data": {
            "image/png": "[encoded data removed]",
            "text/plain": [
              "<Figure size 432x288 with 1 Axes>"
            ]
          },
          "metadata": {
            "tags": []
          }
        }
      ]
    },
    {
      "cell_type": "code",
      "metadata": {
        "id": "oGkfek4yGXU3",
        "colab_type": "code",
        "outputId": "7673cee7-8133-4eb4-c6da-0a6d8406d566",
        "colab": {
          "base_uri": "https://localhost:8080/",
          "height": 300
        }
      },
      "source": [
        "sns.boxplot(train['Price'])"
      ],
      "execution_count": 136,
      "outputs": [
        {
          "output_type": "execute_result",
          "data": {
            "text/plain": [
              "<matplotlib.axes._subplots.AxesSubplot at 0x7f67d3342668>"
            ]
          },
          "metadata": {
            "tags": []
          },
          "execution_count": 136
        },
        {
          "output_type": "display_data",
          "data": {
            "image/png": "[encoded data removed]",
            "text/plain": [
              "<Figure size 432x288 with 1 Axes>"
            ]
          },
          "metadata": {
            "tags": []
          }
        }
      ]
    },
    {
      "cell_type": "code",
      "metadata": {
        "id": "wmSetvnE7dpL",
        "colab_type": "code",
        "colab": {}
      },
      "source": [
        "train.drop(train.index[[4079,5781]],inplace=True)\n"
      ],
      "execution_count": 0,
      "outputs": []
    },
    {
      "cell_type": "code",
      "metadata": {
        "id": "CW2owBfY7nGa",
        "colab_type": "code",
        "colab": {
          "base_uri": "https://localhost:8080/",
          "height": 300
        },
        "outputId": "a07150ba-d7ba-4253-f0e2-fb5f7d808765"
      },
      "source": [
        "# sns.boxplot(train['Price'])\n",
        "sns.distplot(train['Price'])"
      ],
      "execution_count": 117,
      "outputs": [
        {
          "output_type": "execute_result",
          "data": {
            "text/plain": [
              "<matplotlib.axes._subplots.AxesSubplot at 0x7f67d38d1160>"
            ]
          },
          "metadata": {
            "tags": []
          },
          "execution_count": 117
        },
        {
          "output_type": "display_data",
          "data": {
            "image/png": "[encoded data removed]",
            "text/plain": [
              "<Figure size 432x288 with 1 Axes>"
            ]
          },
          "metadata": {
            "tags": []
          }
        }
      ]
    },
    {
      "cell_type": "code",
      "metadata": {
        "id": "TMWzKHaEG51g",
        "colab_type": "code",
        "outputId": "b5606493-fd0b-4681-f268-8408b67345ec",
        "colab": {
          "base_uri": "https://localhost:8080/",
          "height": 108
        }
      },
      "source": [
        "print(train.loc[train['Price'] >= 120])"
      ],
      "execution_count": 138,
      "outputs": [
        {
          "output_type": "stream",
          "text": [
            "Empty DataFrame\n",
            "Columns: [Name, Location, Year, Kilometers_Driven, Fuel_Type, Transmission, Owner_Type, Mileage, Engine, Power, Seats, Price]\n",
            "Index: []\n"
          ],
          "name": "stdout"
        }
      ]
    },
    {
      "cell_type": "code",
      "metadata": {
        "id": "974DQ6GIIpgy",
        "colab_type": "code",
        "outputId": "da90038a-869f-41bf-a52e-03341fd935b7",
        "colab": {
          "base_uri": "https://localhost:8080/",
          "height": 300
        }
      },
      "source": [
        "sns.countplot(train['Name'])"
      ],
      "execution_count": 139,
      "outputs": [
        {
          "output_type": "execute_result",
          "data": {
            "text/plain": [
              "<matplotlib.axes._subplots.AxesSubplot at 0x7f67d32c64a8>"
            ]
          },
          "metadata": {
            "tags": []
          },
          "execution_count": 139
        },
        {
          "output_type": "display_data",
          "data": {
            "image/png": "[encoded data removed]",
            "text/plain": [
              "<Figure size 432x288 with 1 Axes>"
            ]
          },
          "metadata": {
            "tags": []
          }
        }
      ]
    },
    {
      "cell_type": "code",
      "metadata": {
        "id": "EHWtucIBmcRZ",
        "colab_type": "code",
        "colab": {}
      },
      "source": [
        "def findbrand(name):\n",
        "  for each_brand in car_brands:\n",
        "    if each_brand['name'].lower() in name.lower() or each_brand.get('synm','Unknown_Brand').lower() in name.lower() :\n",
        "      return each_brand['name']\n",
        "    \n",
        "  return 'Unknown_Brand'\n",
        "train['BrandName'] = train.apply(lambda row: findbrand(row.Name), axis = 1) "
      ],
      "execution_count": 0,
      "outputs": []
    },
    {
      "cell_type": "code",
      "metadata": {
        "id": "pDnIfoNencet",
        "colab_type": "code",
        "colab": {
          "base_uri": "https://localhost:8080/",
          "height": 34
        },
        "outputId": "35d912b3-2d23-412d-d75c-51c9825cb4a5"
      },
      "source": [
        "findbrand('Hindusthan')"
      ],
      "execution_count": 97,
      "outputs": [
        {
          "output_type": "execute_result",
          "data": {
            "text/plain": [
              "'Unknown_Brand'"
            ]
          },
          "metadata": {
            "tags": []
          },
          "execution_count": 97
        }
      ]
    },
    {
      "cell_type": "code",
      "metadata": {
        "id": "Tyjyur_Jm7Xl",
        "colab_type": "code",
        "colab": {
          "base_uri": "https://localhost:8080/",
          "height": 108
        },
        "outputId": "25e89392-afa7-497f-e7ad-eb43ca31e2ba"
      },
      "source": [
        "print(train.loc[train['BrandName'] == 'Ambassador'].head())"
      ],
      "execution_count": 141,
      "outputs": [
        {
          "output_type": "stream",
          "text": [
            "Empty DataFrame\n",
            "Columns: [Name, Location, Year, Kilometers_Driven, Fuel_Type, Transmission, Owner_Type, Mileage, Engine, Power, Seats, Price, BrandName]\n",
            "Index: []\n"
          ],
          "name": "stdout"
        }
      ]
    },
    {
      "cell_type": "code",
      "metadata": {
        "id": "btcePOnqpZR-",
        "colab_type": "code",
        "colab": {
          "base_uri": "https://localhost:8080/",
          "height": 300
        },
        "outputId": "1a0cfe4e-a476-4a82-bd07-73c9ca1c7f48"
      },
      "source": [
        "sns.countplot(train['BrandName'])"
      ],
      "execution_count": 142,
      "outputs": [
        {
          "output_type": "execute_result",
          "data": {
            "text/plain": [
              "<matplotlib.axes._subplots.AxesSubplot at 0x7f67d28875c0>"
            ]
          },
          "metadata": {
            "tags": []
          },
          "execution_count": 142
        },
        {
          "output_type": "display_data",
          "data": {
            "image/png": "[encoded data removed]",
            "text/plain": [
              "<Figure size 432x288 with 1 Axes>"
            ]
          },
          "metadata": {
            "tags": []
          }
        }
      ]
    },
    {
      "cell_type": "code",
      "metadata": {
        "id": "lLFRERRkrPUS",
        "colab_type": "code",
        "colab": {
          "base_uri": "https://localhost:8080/",
          "height": 119
        },
        "outputId": "ab388691-e4cf-4dce-d822-683dd04e6da4"
      },
      "source": [
        "train['BrandName'].unique()"
      ],
      "execution_count": 143,
      "outputs": [
        {
          "output_type": "execute_result",
          "data": {
            "text/plain": [
              "array(['MARUTI', 'HYUNDAI', 'HONDA', 'AUDI', 'NISSAN', 'TOYOTA',\n",
              "       'VOLKSWAGEN', 'TATA', 'LAND ROVER', 'MITSUBISHI', 'RENAULT',\n",
              "       'MERCEDES-BENZ', 'BMW', 'SEAT', 'AC', 'MAHINDRA', 'FORD',\n",
              "       'PORSCHE', 'DATSUN', 'JAGUAR', 'VOLVO', 'CHEVROLET', 'Skoda',\n",
              "       'MINI', 'FIAT', 'JEEP', 'SMART', 'HINDUSTAN', 'UMM', 'ISUZU',\n",
              "       'FORCE', 'BENTLEY'], dtype=object)"
            ]
          },
          "metadata": {
            "tags": []
          },
          "execution_count": 143
        }
      ]
    },
    {
      "cell_type": "code",
      "metadata": {
        "id": "2bPcquQ7retW",
        "colab_type": "code",
        "colab": {}
      },
      "source": [
        "test['BrandName'] = test.apply(lambda row: findbrand(row.Name), axis = 1) "
      ],
      "execution_count": 0,
      "outputs": []
    },
    {
      "cell_type": "code",
      "metadata": {
        "id": "Rz6jd_hm0Tmv",
        "colab_type": "code",
        "colab": {
          "base_uri": "https://localhost:8080/",
          "height": 34
        },
        "outputId": "a594f32b-71f5-47c0-8fe9-ecca8092ee89"
      },
      "source": [
        "train_array = train['BrandName'].unique()\n",
        "test_array = test['BrandName'].unique()\n",
        "for each in test_array:\n",
        "  if each not in train_array:\n",
        "    print(each)"
      ],
      "execution_count": 145,
      "outputs": [
        {
          "output_type": "stream",
          "text": [
            "OPEL\n"
          ],
          "name": "stdout"
        }
      ]
    },
    {
      "cell_type": "code",
      "metadata": {
        "id": "saaiYXQb1lO6",
        "colab_type": "code",
        "colab": {
          "base_uri": "https://localhost:8080/",
          "height": 85
        },
        "outputId": "7a72f6d7-7b48-40ce-84d5-c1aa451ce1e1"
      },
      "source": [
        "print(test.loc[test['BrandName'] == 'HINDUSTAN'].head())"
      ],
      "execution_count": 146,
      "outputs": [
        {
          "output_type": "stream",
          "text": [
            "                                  Name Location  ...  Seats  BrandName\n",
            "197  Hindustan Motors Contessa 2.0 DSL     Pune  ...    5.0  HINDUSTAN\n",
            "\n",
            "[1 rows x 12 columns]\n"
          ],
          "name": "stdout"
        }
      ]
    },
    {
      "cell_type": "code",
      "metadata": {
        "id": "HKVX-6m-1TL2",
        "colab_type": "code",
        "colab": {
          "base_uri": "https://localhost:8080/",
          "height": 153
        },
        "outputId": "33445193-2f72-4e13-f646-9272210e0077"
      },
      "source": [
        "print(train.loc[train['BrandName'] == 'LAND ROVER'].head())"
      ],
      "execution_count": 147,
      "outputs": [
        {
          "output_type": "stream",
          "text": [
            "                                    Name    Location  ...  Price   BrandName\n",
            "13      Land Rover Range Rover 2.2L Pure       Delhi  ...  27.00  LAND ROVER\n",
            "14        Land Rover Freelander 2 TD4 SE        Pune  ...  17.50  LAND ROVER\n",
            "191  Land Rover Range Rover 2.2L Dynamic  Coimbatore  ...  55.76  LAND ROVER\n",
            "311   Land Rover Range Rover HSE Dynamic       Delhi  ...  44.00  LAND ROVER\n",
            "399  Land Rover Range Rover 2.2L Dynamic   Hyderabad  ...  30.00  LAND ROVER\n",
            "\n",
            "[5 rows x 13 columns]\n"
          ],
          "name": "stdout"
        }
      ]
    },
    {
      "cell_type": "code",
      "metadata": {
        "id": "dYPxmsLz6i66",
        "colab_type": "code",
        "colab": {
          "base_uri": "https://localhost:8080/",
          "height": 431
        },
        "outputId": "83e5b8b4-cefd-4c64-cada-2b6b05e1cc44"
      },
      "source": [
        "train.head()"
      ],
      "execution_count": 148,
      "outputs": [
        {
          "output_type": "execute_result",
          "data": {
            "text/html": [
              "<div>\n",
              "<style scoped>\n",
              "    .dataframe tbody tr th:only-of-type {\n",
              "        vertical-align: middle;\n",
              "    }\n",
              "\n",
              "    .dataframe tbody tr th {\n",
              "        vertical-align: top;\n",
              "    }\n",
              "\n",
              "    .dataframe thead th {\n",
              "        text-align: right;\n",
              "    }\n",
              "</style>\n",
              "<table border=\"1\" class=\"dataframe\">\n",
              "  <thead>\n",
              "    <tr style=\"text-align: right;\">\n",
              "      <th></th>\n",
              "      <th>Name</th>\n",
              "      <th>Location</th>\n",
              "      <th>Year</th>\n",
              "      <th>Kilometers_Driven</th>\n",
              "      <th>Fuel_Type</th>\n",
              "      <th>Transmission</th>\n",
              "      <th>Owner_Type</th>\n",
              "      <th>Mileage</th>\n",
              "      <th>Engine</th>\n",
              "      <th>Power</th>\n",
              "      <th>Seats</th>\n",
              "      <th>Price</th>\n",
              "      <th>BrandName</th>\n",
              "    </tr>\n",
              "  </thead>\n",
              "  <tbody>\n",
              "    <tr>\n",
              "      <th>0</th>\n",
              "      <td>Maruti Wagon R LXI CNG</td>\n",
              "      <td>Mumbai</td>\n",
              "      <td>2010</td>\n",
              "      <td>72000</td>\n",
              "      <td>CNG</td>\n",
              "      <td>Manual</td>\n",
              "      <td>First</td>\n",
              "      <td>26.6 km/kg</td>\n",
              "      <td>998 CC</td>\n",
              "      <td>58.16 bhp</td>\n",
              "      <td>5.0</td>\n",
              "      <td>1.75</td>\n",
              "      <td>MARUTI</td>\n",
              "    </tr>\n",
              "    <tr>\n",
              "      <th>1</th>\n",
              "      <td>Hyundai Creta 1.6 CRDi SX Option</td>\n",
              "      <td>Pune</td>\n",
              "      <td>2015</td>\n",
              "      <td>41000</td>\n",
              "      <td>Diesel</td>\n",
              "      <td>Manual</td>\n",
              "      <td>First</td>\n",
              "      <td>19.67 kmpl</td>\n",
              "      <td>1582 CC</td>\n",
              "      <td>126.2 bhp</td>\n",
              "      <td>5.0</td>\n",
              "      <td>12.50</td>\n",
              "      <td>HYUNDAI</td>\n",
              "    </tr>\n",
              "    <tr>\n",
              "      <th>2</th>\n",
              "      <td>Honda Jazz V</td>\n",
              "      <td>Chennai</td>\n",
              "      <td>2011</td>\n",
              "      <td>46000</td>\n",
              "      <td>Petrol</td>\n",
              "      <td>Manual</td>\n",
              "      <td>First</td>\n",
              "      <td>18.2 kmpl</td>\n",
              "      <td>1199 CC</td>\n",
              "      <td>88.7 bhp</td>\n",
              "      <td>5.0</td>\n",
              "      <td>4.50</td>\n",
              "      <td>HONDA</td>\n",
              "    </tr>\n",
              "    <tr>\n",
              "      <th>3</th>\n",
              "      <td>Maruti Ertiga VDI</td>\n",
              "      <td>Chennai</td>\n",
              "      <td>2012</td>\n",
              "      <td>87000</td>\n",
              "      <td>Diesel</td>\n",
              "      <td>Manual</td>\n",
              "      <td>First</td>\n",
              "      <td>20.77 kmpl</td>\n",
              "      <td>1248 CC</td>\n",
              "      <td>88.76 bhp</td>\n",
              "      <td>7.0</td>\n",
              "      <td>6.00</td>\n",
              "      <td>MARUTI</td>\n",
              "    </tr>\n",
              "    <tr>\n",
              "      <th>4</th>\n",
              "      <td>Audi A4 New 2.0 TDI Multitronic</td>\n",
              "      <td>Coimbatore</td>\n",
              "      <td>2013</td>\n",
              "      <td>40670</td>\n",
              "      <td>Diesel</td>\n",
              "      <td>Automatic</td>\n",
              "      <td>Second</td>\n",
              "      <td>15.2 kmpl</td>\n",
              "      <td>1968 CC</td>\n",
              "      <td>140.8 bhp</td>\n",
              "      <td>5.0</td>\n",
              "      <td>17.74</td>\n",
              "      <td>AUDI</td>\n",
              "    </tr>\n",
              "  </tbody>\n",
              "</table>\n",
              "</div>"
            ],
            "text/plain": [
              "                               Name    Location  Year  ...  Seats  Price BrandName\n",
              "0            Maruti Wagon R LXI CNG      Mumbai  2010  ...    5.0   1.75    MARUTI\n",
              "1  Hyundai Creta 1.6 CRDi SX Option        Pune  2015  ...    5.0  12.50   HYUNDAI\n",
              "2                      Honda Jazz V     Chennai  2011  ...    5.0   4.50     HONDA\n",
              "3                 Maruti Ertiga VDI     Chennai  2012  ...    7.0   6.00    MARUTI\n",
              "4   Audi A4 New 2.0 TDI Multitronic  Coimbatore  2013  ...    5.0  17.74      AUDI\n",
              "\n",
              "[5 rows x 13 columns]"
            ]
          },
          "metadata": {
            "tags": []
          },
          "execution_count": 148
        }
      ]
    },
    {
      "cell_type": "code",
      "metadata": {
        "id": "72Ilvboo63NF",
        "colab_type": "code",
        "colab": {
          "base_uri": "https://localhost:8080/",
          "height": 362
        },
        "outputId": "270dafca-58a4-4a9d-b5fb-e84611929295"
      },
      "source": [
        "train['BrandName'].value_counts(dropna=False).sort_values().plot(kind='bar')"
      ],
      "execution_count": 149,
      "outputs": [
        {
          "output_type": "execute_result",
          "data": {
            "text/plain": [
              "<matplotlib.axes._subplots.AxesSubplot at 0x7f67d24de8d0>"
            ]
          },
          "metadata": {
            "tags": []
          },
          "execution_count": 149
        },
        {
          "output_type": "display_data",
          "data": {
            "image/png": "[encoded data removed]",
            "text/plain": [
              "<Figure size 432x288 with 1 Axes>"
            ]
          },
          "metadata": {
            "tags": []
          }
        }
      ]
    },
    {
      "cell_type": "code",
      "metadata": {
        "id": "y5VMkPzg-KrP",
        "colab_type": "code",
        "colab": {
          "base_uri": "https://localhost:8080/",
          "height": 376
        },
        "outputId": "a692f351-9e75-4681-f3e5-9f654a7a4644"
      },
      "source": [
        "train.groupby('BrandName')['Price'].mean().sort_values().plot(kind='bar')"
      ],
      "execution_count": 150,
      "outputs": [
        {
          "output_type": "execute_result",
          "data": {
            "text/plain": [
              "<matplotlib.axes._subplots.AxesSubplot at 0x7f67d25f5ac8>"
            ]
          },
          "metadata": {
            "tags": []
          },
          "execution_count": 150
        },
        {
          "output_type": "display_data",
          "data": {
            "image/png": "[encoded data removed]",
            "text/plain": [
              "<Figure size 432x288 with 1 Axes>"
            ]
          },
          "metadata": {
            "tags": []
          }
        }
      ]
    },
    {
      "cell_type": "code",
      "metadata": {
        "id": "n2Fup1xh-94e",
        "colab_type": "code",
        "colab": {
          "base_uri": "https://localhost:8080/",
          "height": 301
        },
        "outputId": "774cbf06-7863-42e0-86c9-ac15fa38b752"
      },
      "source": [
        "sns.scatterplot(x=train['Kilometers_Driven'],y=train['Price'])"
      ],
      "execution_count": 152,
      "outputs": [
        {
          "output_type": "execute_result",
          "data": {
            "text/plain": [
              "<matplotlib.axes._subplots.AxesSubplot at 0x7f67d0da79b0>"
            ]
          },
          "metadata": {
            "tags": []
          },
          "execution_count": 152
        },
        {
          "output_type": "display_data",
          "data": {
            "image/png": "[encoded data removed]",
            "text/plain": [
              "<Figure size 432x288 with 1 Axes>"
            ]
          },
          "metadata": {
            "tags": []
          }
        }
      ]
    }
  ]
}